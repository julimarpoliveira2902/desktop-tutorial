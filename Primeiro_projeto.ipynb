{
  "nbformat": 4,
  "nbformat_minor": 0,
  "metadata": {
    "colab": {
      "provenance": []
    },
    "kernelspec": {
      "name": "python3",
      "display_name": "Python 3"
    },
    "language_info": {
      "name": "python"
    }
  },
  "cells": [
    {
      "cell_type": "code",
      "source": [
        "def soma(a, b):\n",
        "  return a + b\n",
        "\n",
        "def subtracao(a, b):\n",
        "  return a - b\n",
        "\n",
        "def multiplicacao(a, b):\n",
        "  return a * b\n",
        "\n",
        "def divisao(a, b):\n",
        "  if b == 0:\n",
        "    return \"Erro: Divisão por zero!\"\n",
        "  else:\n",
        "    return a / b\n",
        "\n",
        "while True:\n",
        "  # Pede ao usuário para inserir dois números\n",
        "  num1 = float(input(\"Digite o primeiro número: \"))\n",
        "  num2 = float(input(\"Digite o segundo número: \"))\n",
        "\n",
        "  # Mostra as opções de operações\n",
        "  print(\"Escolha a operação:\")\n",
        "  print(\"1. Soma\")\n",
        "  print(\"2. Subtração\")\n",
        "  print(\"3. Multiplicação\")\n",
        "  print(\"4. Divisão\")\n",
        "  print(\"5. Sair\")\n",
        "\n",
        "  # Pede ao usuário para escolher a operação\n",
        "  opcao = int(input(\"Digite o número da operação: \"))\n",
        "\n",
        "  # Realiza a operação escolhida\n",
        "  if opcao == 1:\n",
        "    resultado = soma(num1, num2)\n",
        "    print(\"Resultado da soma:\", resultado)\n",
        "  elif opcao == 2:\n",
        "    resultado = subtracao(num1, num2)\n",
        "    print(\"Resultado da subtração:\", resultado)\n",
        "  elif opcao == 3:\n",
        "    resultado = multiplicacao(num1, num2)\n",
        "    print(\"Resultado da multiplicação:\", resultado)\n",
        "  elif opcao == 4:\n",
        "    resultado = divisao(num1, num2)\n",
        "    print(resultado)\n",
        "  elif opcao == 5:\n",
        "    print(\"Saindo...\")\n",
        "    break\n",
        "  else:\n",
        "    print(\"Opção inválida!\")"
      ],
      "metadata": {
        "colab": {
          "base_uri": "https://localhost:8080/"
        },
        "id": "k43OAQI0pMeT",
        "outputId": "ba3a2773-f27e-48a9-ddb8-945309dbe2a5"
      },
      "execution_count": 8,
      "outputs": [
        {
          "output_type": "stream",
          "name": "stdout",
          "text": [
            "Digite o primeiro número: 7\n",
            "Digite o segundo número: 8\n",
            "Escolha a operação:\n",
            "1. Soma\n",
            "2. Subtração\n",
            "3. Multiplicação\n",
            "4. Divisão\n",
            "5. Sair\n",
            "Digite o número da operação: 4\n",
            "0.875\n",
            "Digite o primeiro número: 3\n",
            "Digite o segundo número: 2\n",
            "Escolha a operação:\n",
            "1. Soma\n",
            "2. Subtração\n",
            "3. Multiplicação\n",
            "4. Divisão\n",
            "5. Sair\n",
            "Digite o número da operação: 1\n",
            "Resultado da soma: 5.0\n",
            "Digite o primeiro número: 10\n",
            "Digite o segundo número: 4\n",
            "Escolha a operação:\n",
            "1. Soma\n",
            "2. Subtração\n",
            "3. Multiplicação\n",
            "4. Divisão\n",
            "5. Sair\n",
            "Digite o número da operação: 2\n",
            "Resultado da subtração: 6.0\n",
            "Digite o primeiro número: 9\n",
            "Digite o segundo número: 3\n",
            "Escolha a operação:\n",
            "1. Soma\n",
            "2. Subtração\n",
            "3. Multiplicação\n",
            "4. Divisão\n",
            "5. Sair\n",
            "Digite o número da operação: 3\n",
            "Resultado da multiplicação: 27.0\n",
            "Digite o primeiro número: 6\n",
            "Digite o segundo número: 1\n",
            "Escolha a operação:\n",
            "1. Soma\n",
            "2. Subtração\n",
            "3. Multiplicação\n",
            "4. Divisão\n",
            "5. Sair\n",
            "Digite o número da operação: 5\n",
            "Saindo...\n"
          ]
        }
      ]
    }
  ]
}